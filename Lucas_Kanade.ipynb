{
  "cells": [
    {
      "cell_type": "code",
      "execution_count": null,
      "id": "2c8a44b3-599d-4560-a68f-899bb0876a17",
      "metadata": {
        "id": "2c8a44b3-599d-4560-a68f-899bb0876a17",
        "outputId": "4958acdb-83b9-41c2-fb2f-ecb9404be885"
      },
      "outputs": [
        {
          "name": "stdout",
          "output_type": "stream",
          "text": [
            "Video saved successfully at: C:\\Users\\HP\\Downloads\\output_optical_flow.mp4\n"
          ]
        }
      ],
      "source": [
        "import cv2\n",
        "import numpy as np\n",
        "\n",
        "# Load the video\n",
        "video = cv2.VideoCapture(r\"C:\\Users\\HP\\Downloads\\istockphoto-1764948156-640_adpp_is.mp4\")\n",
        "\n",
        "# Read the first frame\n",
        "ret, prev_frame = video.read()\n",
        "if not ret:\n",
        "    print(\"Error: Unable to read the video\")\n",
        "    exit()\n",
        "\n",
        "# Convert to grayscale\n",
        "prev_gray = cv2.cvtColor(prev_frame, cv2.COLOR_BGR2GRAY)\n",
        "\n",
        "# Parameters for Lucas-Kanade optical flow\n",
        "lk_params = dict(\n",
        "    winSize=(15, 15),\n",
        "    maxLevel=2,\n",
        "    criteria=(cv2.TERM_CRITERIA_EPS | cv2.TERM_CRITERIA_COUNT, 10, 0.03)\n",
        ")\n",
        "\n",
        "# Detect good features and create a mask image\n",
        "prev_corners = cv2.goodFeaturesToTrack(prev_gray, mask=None, maxCorners=100, qualityLevel=0.3, minDistance=5, blockSize=7)\n",
        "mask = np.zeros_like(prev_frame)\n",
        "\n",
        "\n",
        "\n",
        "# Define video writer parameters\n",
        "output_path = r\"C:\\Users\\HP\\Downloads\\output_optical_flow.mp4\"  # Path to save the output video\n",
        "frame_width = int(video.get(cv2.CAP_PROP_FRAME_WIDTH))\n",
        "frame_height = int(video.get(cv2.CAP_PROP_FRAME_HEIGHT))\n",
        "fps = int(video.get(cv2.CAP_PROP_FPS))  # Frames per second from the input video\n",
        "fourcc = cv2.VideoWriter_fourcc(*'mp4v')  # Codec for .mp4 format\n",
        "out = cv2.VideoWriter(output_path, fourcc, fps, (frame_width, frame_height))\n",
        "\n",
        "# Process the video frame by frame\n",
        "while True:\n",
        "    ret, curr_frame = video.read()\n",
        "    if not ret:\n",
        "        break\n",
        "\n",
        "    # Convert current frame to grayscale\n",
        "    curr_gray = cv2.cvtColor(curr_frame, cv2.COLOR_BGR2GRAY)\n",
        "\n",
        "    # Calculate optical flow using Lucas-Kanade method\n",
        "    curr_corners, status, error = cv2.calcOpticalFlowPyrLK(prev_gray, curr_gray, prev_corners, None, **lk_params)\n",
        "\n",
        "    # Filter valid points\n",
        "    good_old = prev_corners[status == 1]\n",
        "    good_new = curr_corners[status == 1]\n",
        "\n",
        "    # Draw motion vectors\n",
        "    for old, new in zip(good_old, good_new):\n",
        "        x_old, y_old = old.ravel()\n",
        "        x_new, y_new = new.ravel()\n",
        "        mask = cv2.line(mask, (int(x_old), int(y_old)), (int(x_new), int(y_new)), (0, 255, 0), 2)\n",
        "        curr_frame = cv2.circle(curr_frame, (int(x_new), int(y_new)), 5, (0, 0, 255), -1)\n",
        "\n",
        "    # Combine the frame and mask for visualization\n",
        "    output = cv2.add(curr_frame, mask)\n",
        "\n",
        "    # Write the processed frame to the output video\n",
        "    out.write(output)\n",
        "\n",
        "    # Display the result\n",
        "    cv2.imshow('L K O F', output)\n",
        "    if cv2.waitKey(30) & 0xFF == ord('q'):\n",
        "        break\n",
        "\n",
        "    # Update previous frame and corners for the next iteration\n",
        "    prev_gray = curr_gray.copy()\n",
        "    prev_corners = good_new.reshape(-1, 1, 2)\n",
        "\n",
        "# Release resources\n",
        "video.release()\n",
        "out.release()  # Release the VideoWriter object\n",
        "cv2.destroyAllWindows()\n",
        "\n",
        "print(f\"Video saved successfully at: {output_path}\")"
      ]
    },
    {
      "cell_type": "code",
      "execution_count": null,
      "id": "008f033e-2dab-49e7-9886-488bd31d5833",
      "metadata": {
        "id": "008f033e-2dab-49e7-9886-488bd31d5833"
      },
      "outputs": [],
      "source": []
    }
  ],
  "metadata": {
    "kernelspec": {
      "display_name": "Python 3 (ipykernel)",
      "language": "python",
      "name": "python3"
    },
    "language_info": {
      "codemirror_mode": {
        "name": "ipython",
        "version": 3
      },
      "file_extension": ".py",
      "mimetype": "text/x-python",
      "name": "python",
      "nbconvert_exporter": "python",
      "pygments_lexer": "ipython3",
      "version": "3.12.4"
    },
    "colab": {
      "provenance": []
    }
  },
  "nbformat": 4,
  "nbformat_minor": 5
}